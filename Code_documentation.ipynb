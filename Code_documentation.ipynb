{
 "cells": [
  {
   "cell_type": "markdown",
   "metadata": {},
   "source": [
    "# Code documentation\n"
   ]
  },
  {
   "cell_type": "markdown",
   "metadata": {},
   "source": [
    "\n",
    "### Overview of workflow description\n",
    "  Basic file manipulation to get gnomAD allele frequency, allele count, and allele number of SNPs that are included in Zhu et. al. 2022. <br> Codes are mainly in base R. \n",
    "\n",
    "\n",
    "##### A. Getting information for gnomAD SNPs\n",
    "\n",
    "**1. Download gnomad files and unzip**\n",
    "\n",
    "   \n",
    "> wget -q \"https://storage.googleapis.com/gcp-public-data--gnomad/release/3.1.2/vcf/genomes/gnomad.genomes.v3.1.2.sites.chr1.vcf.bgz\"\n",
    "\n",
    "> gunzip -c gnomad.genomes.v3.1.2.sites.chr1.vcf.bgz > gnomad.genomes.v3.1.2.sites.chr1.vcf\n",
    "\n",
    "**2. Extract AF, AN, AC fields of SNPs for all populations as .tsv using VCFtools**\n",
    "\n",
    "\n",
    "[https://vcftools.github.io/]\n",
    "\n",
    "\n",
    "> vcftools --vcf gnomad.genomes.v3.1.2.sites.chr1.vcf --out chr1VCFoutput --remove-indels --get-INFO AF_afr --get-INFO AF_asj --get-INFO AF_eas --get-INFO AF_sas --get-INFO AF_mid --get-INFO AF_fin --get-INFO AF_nfe --get-INFO AF_oth --get-INFO AF_ami --get-INFO AF_amr --get-INFO AN_afr --get-INFO AN_asj --get-INFO AN_eas --get-INFO AN_sas --get-INFO AN_mid --get-INFO AN_fin --get-INFO AN_nfe --get-INFO AN_oth --get-INFO AN_ami --get-INFO AN_amr --get-INFO AC_afr --get-INFO AC_asj --get-INFO AC_eas --get-INFO AC_sas --get-INFO AC_mid --get-INFO AC_fin --get-INFO AC_nfe --get-INFO AC_oth --get-INFO AC_ami --get-INFO AC_amr\n"
   ]
  },
  {
   "cell_type": "markdown",
   "metadata": {},
   "source": [
    " ##### B. Retrieving gnomAD AN, AF, AC information for UK Biobank SNPs reported in Zhu et. al. Supplementary Table S7\n",
    " \n",
    "**1. T-test for sex differentiated SNPs**\n",
    "\n",
    " * Two sample T-test function\n",
    " * Looping script for T-test function\n",
    "\n",
    "\n",
    "**2. Using liftOver to polarize the coordinates from reference genome hg19 to hg38**\n",
    "\n",
    " * Bash-script to generate BAM files and run liftOver\n",
    " * R function to assign new coordinates from output BAM files\n",
    " \n",
    " \n",
    " \n",
    "**3. Retrieve information from tsv generated from step A**\n",
    " \n",
    " * Fetch AF, AN, and AC fields separately in three reads\n",
    " * Combine the three fields into single file\n",
    " * Flatten files\n",
    " \n",
    " \n",
    " \n",
    " "
   ]
  },
  {
   "cell_type": "markdown",
   "metadata": {},
   "source": [
    "### Notes\n",
    "Bolded letters are tags that are extensions to file names\n",
    "\n",
    "##### General structure of loop scripts:\n",
    "\n",
    " * list.files gives a list of all files in a directory, to be used as inputs<br>\n",
    " * A for loop that feeds the index of the lists into functions\n",
    " * String splicing to generate new file name for output file\n"
   ]
  },
  {
   "cell_type": "markdown",
   "metadata": {},
   "source": [
    "#### T-test function\n",
    "  * Calculate two sample T-test based on Beta and SE values generated from GWAS data <br>\n",
    "    generated using PLINK 2.0  \n",
    "  * Set alpha at 0.05\n",
    "  * First version of the function write output as two separate files\n",
    "  * Output files have **posttests** endings"
   ]
  },
  {
   "cell_type": "markdown",
   "metadata": {},
   "source": [
    "#### liftOver using UCSC command line tools\n",
    "\n",
    "[https://genome.ucsc.edu/cgi-bin/hgLiftOver]\n",
    "\n",
    " * Download the template for converting\n",
    " * Download liftOver on command line\n",
    " * Bash script annotation:\n",
    "   - Loop over all the **posttest** files, creating a temporary file called new.BED using the column for chromosome and position\n",
    "   - Since SNP has length 1, position column is duplicated\n",
    "   - Using temp file as an input to liftOver, which generates two files, the **conv_** and **unMap_**\n",
    "   - Add headers to the new outputs\n",
    "\n"
   ]
  },
  {
   "cell_type": "markdown",
   "metadata": {},
   "source": [
    "#### Converting coordinates\n",
    "\n",
    "  * Function takes in three inputs: the **conv_**, **unMap_**, and original GWAS file, **_posttest**. \n",
    "  * Remove the **unMap_** SNPs, and then swap the original position columns out with new columns POS from **conv_**.\n",
    "  * Since all of the reported SNPs are biallelic, the row numbers should align neatly.<br> Row numbers of **conv_** files and unMap files sum up to the row numbers of **posttest** files. \n",
    "  * Final output files gets a **coord.conv** extension\n",
    " \n",
    "\n",
    " "
   ]
  },
  {
   "cell_type": "markdown",
   "metadata": {},
   "source": [
    "#### Match_ref and match_alt tags\n",
    " * The original GWAS beta files contains three columns per allele, REF, ALT, and A1.\n",
    " * The GWAS statistic reported is for A1 allele. \n",
    " * The tags are there to remind readers of which allele in the site is being referred to. \n",
    " * *match_ref* is where A1 == REF, and *match_alt* is where A1 == ALT\n",
    " * For later step, alleles with *match_ref* tags will have its values recalculated: AF = 1 - AF, and AC = AN - AC"
   ]
  },
  {
   "cell_type": "markdown",
   "metadata": {},
   "source": [
    "#### Gathering AN, AC, AF information from gnomAD \n",
    "\n",
    " * Nested for loops to retrieve SNPs information\n",
    " * Outer loop opens **coord.conv** file\n",
    " * Sorted chromosomal file pathnames are stored in a file named **sorted_chrom_path**\n",
    " * Inner loop iterates over all chromosomal files list and retrieve information based on chromosome, position, ref, and alt allele base\n",
    " * Create output files with ending **end_AC**, **end_AF**, or **end_AN**\n",
    "\n",
    " "
   ]
  },
  {
   "cell_type": "markdown",
   "metadata": {},
   "source": [
    "#### Flatten all files\n",
    "\n"
   ]
  },
  {
   "cell_type": "markdown",
   "metadata": {},
   "source": [
    " * Create a list of all input files, which comes from the step above\n",
    " * Merge all AN, AF, and AC files together\n",
    " * Add a tag for T-test, \"True\" if pass and \"False\" otherwise\n",
    " * Extra step to stack all files together, such that one trait now has one file only, with **both** and **merged** tags"
   ]
  }
 ],
 "metadata": {
  "kernelspec": {
   "display_name": "Python 3",
   "language": "python",
   "name": "python3"
  },
  "language_info": {
   "codemirror_mode": {
    "name": "ipython",
    "version": 3
   },
   "file_extension": ".py",
   "mimetype": "text/x-python",
   "name": "python",
   "nbconvert_exporter": "python",
   "pygments_lexer": "ipython3",
   "version": "3.6.9"
  }
 },
 "nbformat": 4,
 "nbformat_minor": 4
}
